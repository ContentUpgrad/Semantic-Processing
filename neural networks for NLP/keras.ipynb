{
 "cells": [
  {
   "cell_type": "markdown",
   "id": "strange-seafood",
   "metadata": {},
   "source": [
    "## [Installing Tensorflow / Keras](https://www.tensorflow.org/install)"
   ]
  },
  {
   "cell_type": "code",
   "execution_count": null,
   "id": "aquatic-learning",
   "metadata": {},
   "outputs": [],
   "source": [
    "# Imports\n",
    "\n",
    "from tensorflow.keras.layers import Dense\n",
    "from tensorflow.keras import Sequential\n",
    "from tensorflow.keras.optimizers import SGD\n",
    "from tensorflow.keras.utils import to_categorical, plot_model\n",
    "import pandas as pd\n",
    "import numpy as np\n",
    "import matplotlib.pyplot as plt\n",
    "%matplotlib inline"
   ]
  },
  {
   "cell_type": "markdown",
   "id": "maritime-flavor",
   "metadata": {},
   "source": [
    "## Problem: **Credit Card Fraud Detection**\n",
    "### Given a list of 28 anonimyzed features and the amount of money involved in a credt card transaction, predict whether the transaction is likely to be fraudulent.\n",
    "### Source: https://www.kaggle.com/mlg-ulb/creditcardfraud/"
   ]
  },
  {
   "cell_type": "code",
   "execution_count": null,
   "id": "occupied-eagle",
   "metadata": {},
   "outputs": [],
   "source": [
    "# Preview dataset\n",
    "\n",
    "df = pd.read_csv('creditcard.csv')\n",
    "df.drop(['Time'], axis=1, inplace=True)\n",
    "df.head()"
   ]
  },
  {
   "cell_type": "code",
   "execution_count": null,
   "id": "stock-imperial",
   "metadata": {},
   "outputs": [],
   "source": [
    "print(len(df))"
   ]
  },
  {
   "cell_type": "code",
   "execution_count": null,
   "id": "charged-parade",
   "metadata": {},
   "outputs": [],
   "source": [
    "# Check the proportion of the classes\n",
    "\n",
    "df['Class'].value_counts(normalize=True)"
   ]
  },
  {
   "cell_type": "code",
   "execution_count": null,
   "id": "level-telephone",
   "metadata": {},
   "outputs": [],
   "source": [
    "df['Class'].value_counts(normalize=True).plot(kind='pie')"
   ]
  },
  {
   "cell_type": "code",
   "execution_count": null,
   "id": "attached-potter",
   "metadata": {},
   "outputs": [],
   "source": [
    "# Define the input and the output\n",
    "\n",
    "y = df.pop('Class').values\n",
    "X = df.values"
   ]
  },
  {
   "cell_type": "code",
   "execution_count": null,
   "id": "aging-cream",
   "metadata": {},
   "outputs": [],
   "source": [
    "# Assemble the network\n",
    "\n",
    "model = Sequential([\n",
    "    Dense(16, input_shape=(29,), activation='relu'),\n",
    "    Dense(8, activation='relu'),\n",
    "    Dense(2, activation='softmax')\n",
    "])\n",
    "model.compile(loss='sparse_categorical_crossentropy', optimizer=SGD(lr=1e-3), metrics=['categorical_accuracy'])"
   ]
  },
  {
   "cell_type": "code",
   "execution_count": null,
   "id": "experienced-terminal",
   "metadata": {},
   "outputs": [],
   "source": [
    "# View the network - layer by layer\n",
    "\n",
    "plot_model(model, show_shapes=True, rankdir='LR')"
   ]
  },
  {
   "cell_type": "code",
   "execution_count": null,
   "id": "revolutionary-gothic",
   "metadata": {},
   "outputs": [],
   "source": [
    "model.layers"
   ]
  },
  {
   "cell_type": "code",
   "execution_count": null,
   "id": "authorized-holiday",
   "metadata": {},
   "outputs": [],
   "source": [
    "layer1, layer2, layer3 = model.layers"
   ]
  },
  {
   "cell_type": "code",
   "execution_count": null,
   "id": "quarterly-participation",
   "metadata": {},
   "outputs": [],
   "source": [
    "# View the shapes of weights and biases for each layer\n",
    "\n",
    "l1_weight, l1_bias = layer1.weights\n",
    "print(l1_weight.shape)\n",
    "print(l1_bias.shape)"
   ]
  },
  {
   "cell_type": "code",
   "execution_count": null,
   "id": "impaired-emphasis",
   "metadata": {},
   "outputs": [],
   "source": [
    "l2_weight, l2_bias = layer2.weights\n",
    "print(l2_weight.shape)\n",
    "print(l2_bias.shape)"
   ]
  },
  {
   "cell_type": "code",
   "execution_count": null,
   "id": "contained-leave",
   "metadata": {},
   "outputs": [],
   "source": [
    "l3_weight, l3_bias = layer3.weights\n",
    "print(l3_weight.shape)\n",
    "print(l3_bias.shape)"
   ]
  },
  {
   "cell_type": "code",
   "execution_count": null,
   "id": "ultimate-times",
   "metadata": {
    "scrolled": true
   },
   "outputs": [],
   "source": [
    "# Train the model\n",
    "\n",
    "history = model.fit(X, y, batch_size=128, epochs=30)"
   ]
  },
  {
   "cell_type": "code",
   "execution_count": null,
   "id": "signal-fireplace",
   "metadata": {},
   "outputs": [],
   "source": [
    "# Plot the loss across epochs\n",
    "\n",
    "plt.plot(history.history['loss'], label='Loss')"
   ]
  },
  {
   "cell_type": "code",
   "execution_count": null,
   "id": "advised-border",
   "metadata": {},
   "outputs": [],
   "source": [
    "# Plot the accuracy across epochs\n",
    "\n",
    "plt.plot(history.history['categorical_accuracy'], label='Accuracy')"
   ]
  },
  {
   "cell_type": "code",
   "execution_count": null,
   "id": "attended-mileage",
   "metadata": {},
   "outputs": [],
   "source": []
  }
 ],
 "metadata": {
  "kernelspec": {
   "display_name": "Python 3",
   "language": "python",
   "name": "python3"
  },
  "language_info": {
   "codemirror_mode": {
    "name": "ipython",
    "version": 3
   },
   "file_extension": ".py",
   "mimetype": "text/x-python",
   "name": "python",
   "nbconvert_exporter": "python",
   "pygments_lexer": "ipython3",
   "version": "3.7.7"
  }
 },
 "nbformat": 4,
 "nbformat_minor": 5
}
