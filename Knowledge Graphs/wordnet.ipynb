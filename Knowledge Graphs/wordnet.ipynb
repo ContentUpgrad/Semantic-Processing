{
 "cells": [
  {
   "cell_type": "code",
   "execution_count": 1,
   "id": "finite-genetics",
   "metadata": {},
   "outputs": [
    {
     "name": "stderr",
     "output_type": "stream",
     "text": [
      "/home/jaidevd/anaconda3/lib/python3.7/importlib/_bootstrap.py:219: RuntimeWarning: numpy.ufunc size changed, may indicate binary incompatibility. Expected 192 from C header, got 216 from PyObject\n",
      "  return f(*args, **kwds)\n",
      "/home/jaidevd/anaconda3/lib/python3.7/importlib/_bootstrap.py:219: RuntimeWarning: numpy.ufunc size changed, may indicate binary incompatibility. Expected 192 from C header, got 216 from PyObject\n",
      "  return f(*args, **kwds)\n"
     ]
    }
   ],
   "source": [
    "from spacy import load\n",
    "from spacy_wordnet.wordnet_annotator import WordnetAnnotator\n",
    "import pandas as pd"
   ]
  },
  {
   "cell_type": "code",
   "execution_count": 2,
   "id": "subtle-penguin",
   "metadata": {},
   "outputs": [],
   "source": [
    "nlp = load('en_core_web_sm')\n",
    "nlp.add_pipe(WordnetAnnotator(nlp.lang))"
   ]
  },
  {
   "cell_type": "code",
   "execution_count": 28,
   "id": "accepted-cookie",
   "metadata": {},
   "outputs": [
    {
     "data": {
      "text/html": [
       "<div>\n",
       "<style scoped>\n",
       "    .dataframe tbody tr th:only-of-type {\n",
       "        vertical-align: middle;\n",
       "    }\n",
       "\n",
       "    .dataframe tbody tr th {\n",
       "        vertical-align: top;\n",
       "    }\n",
       "\n",
       "    .dataframe thead th {\n",
       "        text-align: right;\n",
       "    }\n",
       "</style>\n",
       "<table border=\"1\" class=\"dataframe\">\n",
       "  <thead>\n",
       "    <tr style=\"text-align: right;\">\n",
       "      <th></th>\n",
       "      <th>Description</th>\n",
       "      <th>Price</th>\n",
       "      <th>Country</th>\n",
       "    </tr>\n",
       "  </thead>\n",
       "  <tbody>\n",
       "    <tr>\n",
       "      <th>0</th>\n",
       "      <td>WHITE HANGING HEART T-LIGHT HOLDER</td>\n",
       "      <td>2.55</td>\n",
       "      <td>United Kingdom</td>\n",
       "    </tr>\n",
       "    <tr>\n",
       "      <th>1</th>\n",
       "      <td>WHITE METAL LANTERN</td>\n",
       "      <td>3.39</td>\n",
       "      <td>United Kingdom</td>\n",
       "    </tr>\n",
       "    <tr>\n",
       "      <th>2</th>\n",
       "      <td>CREAM CUPID HEARTS COAT HANGER</td>\n",
       "      <td>2.75</td>\n",
       "      <td>United Kingdom</td>\n",
       "    </tr>\n",
       "    <tr>\n",
       "      <th>3</th>\n",
       "      <td>KNITTED UNION FLAG HOT WATER BOTTLE</td>\n",
       "      <td>3.39</td>\n",
       "      <td>United Kingdom</td>\n",
       "    </tr>\n",
       "    <tr>\n",
       "      <th>4</th>\n",
       "      <td>RED WOOLLY HOTTIE WHITE HEART.</td>\n",
       "      <td>3.39</td>\n",
       "      <td>United Kingdom</td>\n",
       "    </tr>\n",
       "    <tr>\n",
       "      <th>5</th>\n",
       "      <td>SET 7 BABUSHKA NESTING BOXES</td>\n",
       "      <td>7.65</td>\n",
       "      <td>United Kingdom</td>\n",
       "    </tr>\n",
       "    <tr>\n",
       "      <th>6</th>\n",
       "      <td>GLASS STAR FROSTED T-LIGHT HOLDER</td>\n",
       "      <td>4.25</td>\n",
       "      <td>United Kingdom</td>\n",
       "    </tr>\n",
       "    <tr>\n",
       "      <th>7</th>\n",
       "      <td>HAND WARMER UNION JACK</td>\n",
       "      <td>1.85</td>\n",
       "      <td>United Kingdom</td>\n",
       "    </tr>\n",
       "    <tr>\n",
       "      <th>8</th>\n",
       "      <td>HAND WARMER RED POLKA DOT</td>\n",
       "      <td>1.85</td>\n",
       "      <td>United Kingdom</td>\n",
       "    </tr>\n",
       "    <tr>\n",
       "      <th>9</th>\n",
       "      <td>ASSORTED COLOUR BIRD ORNAMENT</td>\n",
       "      <td>1.69</td>\n",
       "      <td>United Kingdom</td>\n",
       "    </tr>\n",
       "  </tbody>\n",
       "</table>\n",
       "</div>"
      ],
      "text/plain": [
       "                           Description  Price         Country\n",
       "0   WHITE HANGING HEART T-LIGHT HOLDER   2.55  United Kingdom\n",
       "1                  WHITE METAL LANTERN   3.39  United Kingdom\n",
       "2       CREAM CUPID HEARTS COAT HANGER   2.75  United Kingdom\n",
       "3  KNITTED UNION FLAG HOT WATER BOTTLE   3.39  United Kingdom\n",
       "4       RED WOOLLY HOTTIE WHITE HEART.   3.39  United Kingdom\n",
       "5         SET 7 BABUSHKA NESTING BOXES   7.65  United Kingdom\n",
       "6    GLASS STAR FROSTED T-LIGHT HOLDER   4.25  United Kingdom\n",
       "7               HAND WARMER UNION JACK   1.85  United Kingdom\n",
       "8            HAND WARMER RED POLKA DOT   1.85  United Kingdom\n",
       "9        ASSORTED COLOUR BIRD ORNAMENT   1.69  United Kingdom"
      ]
     },
     "execution_count": 28,
     "metadata": {},
     "output_type": "execute_result"
    }
   ],
   "source": [
    "df = pd.read_csv('data/data.csv', encoding='latin-1', usecols=['Description', 'UnitPrice', 'Country'])\n",
    "df.columns = ['Description', 'Price', 'Country']\n",
    "df.head(10)"
   ]
  },
  {
   "cell_type": "code",
   "execution_count": 59,
   "id": "embedded-mambo",
   "metadata": {},
   "outputs": [],
   "source": [
    "DOMAINS = {'hydraulics', 'rowing', 'furniture', 'food', 'jewelry', 'plants', 'art', 'fashion'}"
   ]
  },
  {
   "cell_type": "code",
   "execution_count": 32,
   "id": "approximate-possession",
   "metadata": {},
   "outputs": [],
   "source": [
    "query = \"shirt\""
   ]
  },
  {
   "cell_type": "code",
   "execution_count": 83,
   "id": "related-thanksgiving",
   "metadata": {},
   "outputs": [],
   "source": [
    "df.dropna(subset=['Description'], inplace=True)\n",
    "df.drop_duplicates(subset=['Description'], inplace=True)\n",
    "docs = nlp.pipe([c.lower() for c in df['Description'].tolist()], n_process=-1)"
   ]
  },
  {
   "cell_type": "code",
   "execution_count": 61,
   "id": "regional-dryer",
   "metadata": {},
   "outputs": [],
   "source": [
    "from tqdm import tqdm"
   ]
  },
  {
   "cell_type": "code",
   "execution_count": 66,
   "id": "danish-combining",
   "metadata": {},
   "outputs": [],
   "source": [
    "import numpy as np"
   ]
  },
  {
   "cell_type": "code",
   "execution_count": 85,
   "id": "inside-joining",
   "metadata": {},
   "outputs": [
    {
     "name": "stderr",
     "output_type": "stream",
     "text": [
      "100%|██████████| 1000/1000 [00:06<00:00, 149.74it/s]"
     ]
    },
    {
     "name": "stdout",
     "output_type": "stream",
     "text": [
      "23\n"
     ]
    },
    {
     "name": "stderr",
     "output_type": "stream",
     "text": [
      "\n"
     ]
    }
   ],
   "source": [
    "query = nlp(\"shirt\")[0]\n",
    "query_domains = set(query._.wordnet.wordnet_domains())\n",
    "scores = []\n",
    "sample = df['Description'].sample(n=1000).tolist()\n",
    "for doc in tqdm(sample):\n",
    "    nouns = [c for c in nlp(doc.lower()) if c.pos_ in ('NOUN', 'PROPN')]\n",
    "    doc_domains = set()\n",
    "    for noun in nouns:\n",
    "        doc_domains.update(noun._.wordnet.wordnet_domains())\n",
    "    scores.append(len(doc_domains & query_domains)/ len(doc_domains | query_domains))\n",
    "\n",
    "    \n",
    "print(np.array(scores).argmax())"
   ]
  },
  {
   "cell_type": "code",
   "execution_count": 88,
   "id": "functioning-recorder",
   "metadata": {},
   "outputs": [
    {
     "data": {
      "text/plain": [
       "(array([23]),)"
      ]
     },
     "execution_count": 88,
     "metadata": {},
     "output_type": "execute_result"
    }
   ],
   "source": [
    "np.where(np.array(scores) == 0.6)"
   ]
  },
  {
   "cell_type": "code",
   "execution_count": 89,
   "id": "verified-candle",
   "metadata": {},
   "outputs": [
    {
     "data": {
      "text/plain": [
       "'CRACKED GLAZE EARRINGS RED'"
      ]
     },
     "execution_count": 89,
     "metadata": {},
     "output_type": "execute_result"
    }
   ],
   "source": [
    "sample[23]"
   ]
  },
  {
   "cell_type": "code",
   "execution_count": 90,
   "id": "periodic-official",
   "metadata": {},
   "outputs": [
    {
     "name": "stdout",
     "output_type": "stream",
     "text": [
      "MOUSE TOY WITH PINK T-SHIRT\n"
     ]
    }
   ],
   "source": [
    "for c in sample:\n",
    "    if 'shirt' in c.lower():\n",
    "        print(c)"
   ]
  },
  {
   "cell_type": "code",
   "execution_count": 74,
   "id": "indian-distinction",
   "metadata": {},
   "outputs": [],
   "source": [
    "import matplotlib.pyplot as plt"
   ]
  },
  {
   "cell_type": "code",
   "execution_count": 75,
   "id": "above-uncle",
   "metadata": {},
   "outputs": [],
   "source": [
    "%matplotlib inline"
   ]
  },
  {
   "cell_type": "code",
   "execution_count": 78,
   "id": "antique-hypothesis",
   "metadata": {},
   "outputs": [
    {
     "data": {
      "text/plain": [
       "0.3333333333333333"
      ]
     },
     "execution_count": 78,
     "metadata": {},
     "output_type": "execute_result"
    }
   ],
   "source": [
    "max(scores)"
   ]
  },
  {
   "cell_type": "code",
   "execution_count": 79,
   "id": "fifteen-stereo",
   "metadata": {},
   "outputs": [
    {
     "data": {
      "text/plain": [
       "(array([ 63, 611, 811]),)"
      ]
     },
     "execution_count": 79,
     "metadata": {},
     "output_type": "execute_result"
    }
   ],
   "source": [
    "np.where(np.array(scores) == max(scores))"
   ]
  },
  {
   "cell_type": "code",
   "execution_count": 80,
   "id": "sexual-ontario",
   "metadata": {},
   "outputs": [
    {
     "data": {
      "text/plain": [
       "'WICKER WREATH SMALL'"
      ]
     },
     "execution_count": 80,
     "metadata": {},
     "output_type": "execute_result"
    }
   ],
   "source": [
    "sample[63]"
   ]
  },
  {
   "cell_type": "code",
   "execution_count": 81,
   "id": "facial-performer",
   "metadata": {},
   "outputs": [
    {
     "data": {
      "text/plain": [
       "'WICKER WREATH LARGE'"
      ]
     },
     "execution_count": 81,
     "metadata": {},
     "output_type": "execute_result"
    }
   ],
   "source": [
    "sample[611]"
   ]
  },
  {
   "cell_type": "code",
   "execution_count": 82,
   "id": "immediate-petite",
   "metadata": {},
   "outputs": [
    {
     "data": {
      "text/plain": [
       "'WICKER WREATH SMALL'"
      ]
     },
     "execution_count": 82,
     "metadata": {},
     "output_type": "execute_result"
    }
   ],
   "source": [
    "sample[811]"
   ]
  },
  {
   "cell_type": "code",
   "execution_count": null,
   "id": "educational-shock",
   "metadata": {},
   "outputs": [],
   "source": []
  }
 ],
 "metadata": {
  "kernelspec": {
   "display_name": "Python 3",
   "language": "python",
   "name": "python3"
  },
  "language_info": {
   "codemirror_mode": {
    "name": "ipython",
    "version": 3
   },
   "file_extension": ".py",
   "mimetype": "text/x-python",
   "name": "python",
   "nbconvert_exporter": "python",
   "pygments_lexer": "ipython3",
   "version": "3.7.7"
  }
 },
 "nbformat": 4,
 "nbformat_minor": 5
}
